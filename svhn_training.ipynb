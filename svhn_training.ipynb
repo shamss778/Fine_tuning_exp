{
 "cells": [
  {
   "cell_type": "code",
   "execution_count": 7,
   "id": "bd033c0a",
   "metadata": {},
   "outputs": [],
   "source": [
    "import scipy.io as sio\n",
    "import numpy as np\n",
    "import torch\n",
    "from torch.utils.data import Dataset, DataLoader\n",
    "from torchvision import transforms\n",
    "import matplotlib.pyplot as plt"
   ]
  },
  {
   "cell_type": "code",
   "execution_count": 8,
   "id": "3c37b3d7",
   "metadata": {},
   "outputs": [],
   "source": [
    "train_data = sio.loadmat('/Users/shamsbenmefteh/Documents/Fine_tuning_exp/data/SVHN/train_32x32.mat')\n",
    "test_data = sio.loadmat('/Users/shamsbenmefteh/Documents/Fine_tuning_exp/data/SVHN/test_32x32.mat')"
   ]
  },
  {
   "cell_type": "markdown",
   "id": "84f92a21",
   "metadata": {},
   "source": [
    "X: A 4-D matrix containing the images with shape (32, 32, 3, N) where:\n",
    "\n",
    "First dimension: Height (32 pixels)\n",
    "\n",
    "Second dimension: Width (32 pixels)\n",
    "\n",
    "Third dimension: Color channels (3 for RGB)\n",
    "\n",
    "Fourth dimension: Number of images (N)\n",
    "\n",
    "y: A vector of class labels with shape (N, 1) where each label represents the digit (0-9, but originally 1-10 with 10 representing 0)"
   ]
  },
  {
   "cell_type": "code",
   "execution_count": 9,
   "id": "b7eba634",
   "metadata": {},
   "outputs": [
    {
     "name": "stdout",
     "output_type": "stream",
     "text": [
      "Original X train shape: (32, 32, 3, 73257)\n",
      "Original y train shape: (73257, 1)\n"
     ]
    }
   ],
   "source": [
    "# Extract X and y\n",
    "X_train = train_data['X']  # Shape: (32, 32, 3, N)\n",
    "y_train = train_data['y']  # Shape: (N, 1)\n",
    "\n",
    "print(f\"Original X train shape: {X_train.shape}\")\n",
    "print(f\"Original y train shape: {y_train.shape}\")"
   ]
  },
  {
   "cell_type": "code",
   "execution_count": 10,
   "id": "99b763a6",
   "metadata": {},
   "outputs": [
    {
     "name": "stdout",
     "output_type": "stream",
     "text": [
      "Original X test shape: (32, 32, 3, 26032)\n",
      "Original y test shape: (26032, 1)\n"
     ]
    }
   ],
   "source": [
    "# Extract X and y\n",
    "X_test = test_data['X']  # Shape: (32, 32, 3, N)\n",
    "y_test = test_data['y']  # Shape: (N, 1)\n",
    "\n",
    "print(f\"Original X test shape: {X_test.shape}\")\n",
    "print(f\"Original y test shape: {y_test.shape}\")"
   ]
  },
  {
   "cell_type": "code",
   "execution_count": 11,
   "id": "a7e87170",
   "metadata": {},
   "outputs": [
    {
     "name": "stdout",
     "output_type": "stream",
     "text": [
      "After transpose X shape: (73257, 32, 32, 3)\n",
      "After transpose X test shape: (26032, 32, 32, 3)\n",
      "Final X shape: (73257, 32, 32, 3)\n",
      "Final X test shape: (26032, 32, 32, 3)\n",
      "Final y shape: (73257,)\n",
      "Final y test shape: (26032,)\n"
     ]
    }
   ],
   "source": [
    "# Transpose X from (H, W, C, N) to (N, H, W, C)\n",
    "X_train = np.transpose(X_train, (3, 0, 1, 2))\n",
    "print(f\"After transpose X shape: {X_train.shape}\")\n",
    "\n",
    "X_test = np.transpose(X_test, (3, 0, 1, 2))\n",
    "print(f\"After transpose X test shape: {X_test.shape}\")\n",
    "\n",
    "# Fix labels: SVHN uses 10 for digit 0, change it to 0\n",
    "y_test = y_test.squeeze()  # Remove extra dimension: (N, 1) -> (N,)\n",
    "y_test[y_test == 10] = 0   # Change label 10 to 0 for digit 0\n",
    "\n",
    "y_train = y_train.squeeze()  # Remove extra dimension: (N, 1) -> (N,)\n",
    "y_train[y_train == 10] = 0   # Change label 10 to 0 for digit 0\n",
    "\n",
    "print(f\"Final X shape: {X_train.shape}\")\n",
    "print(f\"Final X test shape: {X_test.shape}\")\n",
    "print(f\"Final y shape: {y_train.shape}\")\n",
    "print(f\"Final y test shape: {y_test.shape}\")"
   ]
  },
  {
   "cell_type": "code",
   "execution_count": 17,
   "id": "1ea3a3ef",
   "metadata": {},
   "outputs": [
    {
     "name": "stdout",
     "output_type": "stream",
     "text": [
      "First label: 1\n",
      "First image array:\n",
      " [[[ 33  30  38]\n",
      "  [ 15  23  19]\n",
      "  [ 15  17  19]\n",
      "  ...\n",
      "  [ 72  65  56]\n",
      "  [ 82  77  57]\n",
      "  [ 89  79  59]]\n",
      "\n",
      " [[ 28  39  35]\n",
      "  [ 14  25  22]\n",
      "  [ 14  20  17]\n",
      "  ...\n",
      "  [ 40  39  50]\n",
      "  [ 67  58  52]\n",
      "  [ 83  78  60]]\n",
      "\n",
      " [[ 40  41  38]\n",
      "  [ 18  21  26]\n",
      "  [ 16  17  23]\n",
      "  ...\n",
      "  [ 23  29  45]\n",
      "  [ 35  42  44]\n",
      "  [ 72  69  53]]\n",
      "\n",
      " ...\n",
      "\n",
      " [[ 86  81  75]\n",
      "  [ 87  82  71]\n",
      "  [ 82  79  65]\n",
      "  ...\n",
      "  [104 104  87]\n",
      "  [104 105  81]\n",
      "  [103 105  78]]\n",
      "\n",
      " [[ 84  86  64]\n",
      "  [ 86  79  72]\n",
      "  [ 82  76  72]\n",
      "  ...\n",
      "  [110 103  84]\n",
      "  [106 105  85]\n",
      "  [106 104  86]]\n",
      "\n",
      " [[ 85  88  68]\n",
      "  [ 89  82  72]\n",
      "  [ 85  79  67]\n",
      "  ...\n",
      "  [111 104  87]\n",
      "  [109 105  86]\n",
      "  [103 106  79]]]\n"
     ]
    }
   ],
   "source": [
    "print(\"First label:\", y_train[0])\n",
    "print(\"First image array:\\n\", X_train[0])"
   ]
  },
  {
   "cell_type": "code",
   "execution_count": 18,
   "id": "4abe6a63",
   "metadata": {},
   "outputs": [
    {
     "data": {
      "image/png": "[encoded data removed]",
      "text/plain": [
       "<Figure size 640x480 with 1 Axes>"
      ]
     },
     "metadata": {},
     "output_type": "display_data"
    }
   ],
   "source": [
    "plt.imshow(X_train[0])\n",
    "plt.title(f\"Label: {y_train[0]}\")\n",
    "plt.show()"
   ]
  },
  {
   "cell_type": "code",
   "execution_count": null,
   "id": "03cc1f23",
   "metadata": {},
   "outputs": [],
   "source": []
  }
 ],
 "metadata": {
  "kernelspec": {
   "display_name": "Python 3",
   "language": "python",
   "name": "python3"
  },
  "language_info": {
   "codemirror_mode": {
    "name": "ipython",
    "version": 3
   },
   "file_extension": ".py",
   "mimetype": "text/x-python",
   "name": "python",
   "nbconvert_exporter": "python",
   "pygments_lexer": "ipython3",
   "version": "3.13.5"
  }
 },
 "nbformat": 4,
 "nbformat_minor": 5
}
